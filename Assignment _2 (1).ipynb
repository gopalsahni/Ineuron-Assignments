{
 "cells": [
  {
   "cell_type": "markdown",
   "metadata": {},
   "source": [
    "# Task 1\n",
    "\n",
    "**1.1\n",
    "Write a Python Program to implement your own myreduce() function which works exactly like\n",
    "Python's built-in function reduce()"
   ]
  },
  {
   "cell_type": "code",
   "execution_count": 33,
   "metadata": {},
   "outputs": [
    {
     "name": "stdout",
     "output_type": "stream",
     "text": [
      "after_reduce =  20\n"
     ]
    }
   ],
   "source": [
    "#Solution 1.1\n",
    "def my_reduce(function, iterable, initializer=None):\n",
    "    it = iter(iterable)\n",
    "    if initializer is None:\n",
    "        value = next(it)\n",
    "    else:\n",
    "        value = initializer\n",
    "    for element in it:\n",
    "        value = function(value, element)\n",
    "    return value\n",
    "\n",
    "# implementation of my_reduce() user made\n",
    "s={1,4,5,10}\n",
    "after_reduce = my_reduce(lambda x,y:x+y,s)\n",
    "print(\"after_reduce = \", after_reduce)\n"
   ]
  },
  {
   "cell_type": "markdown",
   "metadata": {},
   "source": [
    "**1.2\n",
    "Write a Python program to implement your own myfilter() function which works exactly like\n",
    "Python's built-in function filter()"
   ]
  },
  {
   "cell_type": "code",
   "execution_count": 34,
   "metadata": {
    "scrolled": true
   },
   "outputs": [
    {
     "name": "stdout",
     "output_type": "stream",
     "text": [
      "after_filter:  [4, 2, 0]\n"
     ]
    }
   ],
   "source": [
    "#Solution 1.2\n",
    "def myfilter(func, val): #takes two argument function and sequence \n",
    "    result = []\n",
    "    for item in val:\n",
    "        if func(item):\n",
    "            result.append(item)\n",
    "    return result\n",
    "\n",
    "def even_odd(n): # func\n",
    "    if (n%2 == 0): \n",
    "        return True \n",
    "    else: \n",
    "        return False\n",
    "\n",
    "\n",
    "    \n",
    "after_filter = myfilter(even_odd, [1,4,1,2,-0,-11]) # implementation \n",
    "print(\"after_filter: \",after_filter)"
   ]
  },
  {
   "cell_type": "markdown",
   "metadata": {},
   "source": [
    "**2.\n",
    "Implement List comprehensions to produce the following lists.\n",
    "Write List comprehensions to produce the following Lists\n",
    "['A', 'C', 'A', 'D', 'G', 'I', ’L’, ‘ D’]\n",
    "['x', 'xx', 'xxx', 'xxxx', 'y', 'yy', 'yyy', 'yyyy', 'z', 'zz', 'zzz', 'zzzz']\n",
    "['x', 'y', 'z', 'xx', 'yy', 'zz', 'xx', 'yy', 'zz', 'xxxx', 'yyyy', 'zzzz']\n",
    "[[2], [3], [4], [3], [4], [5], [4], [5], [6]]\n",
    "[[2, 3, 4, 5], [3, 4, 5, 6], [4, 5, 6, 7], [5, 6, 7, 8]]\n",
    "[(1, 1), (2, 1), (3, 1), (1, 2), (2, 2), (3, 2), (1, 3), (2, 3), (3, 3)]\n",
    "3.\n",
    "Implement a function longestWord() that takes a list of words and returns the longest one."
   ]
  },
  {
   "cell_type": "code",
   "execution_count": 1,
   "metadata": {},
   "outputs": [
    {
     "name": "stdout",
     "output_type": "stream",
     "text": [
      "['A', 'C', 'A', 'D', 'G', 'I', 'L', 'D'] \n",
      "\n",
      "['x', 'xx', 'xxx', 'xxxx', 'y', 'yy', 'yyy', 'yyyy', 'z', 'zz', 'zzz', 'zzzz'] \n",
      "\n",
      "['x', 'y', 'z', 'xx', 'yy', 'zz', 'xxx', 'yyy', 'zzz', 'xxxx', 'yyyy', 'zzzz'] \n",
      "\n",
      "[[2], [3], [4], [3], [4], [5], [4], [5], [6]] \n",
      "\n",
      "[[2, 3, 4, 5], [3, 4, 5, 6], [4, 5, 6, 7], [5, 6, 7, 8]] \n",
      "\n",
      "[(1, 1), (2, 1), (3, 1), (1, 2), (2, 2), (3, 2), (1, 3), (2, 3), (3, 3)] \n",
      "\n"
     ]
    }
   ],
   "source": [
    "# Solution 2\n",
    "list1 = [i for i in 'ACADGILD']\n",
    "print(list1,\"\\n\")\n",
    "\n",
    "list2 = [i * j for j in ['x', 'y', 'z'] for i in range(1, 5)]\n",
    "print(list2,\"\\n\")\n",
    "\n",
    "list3 = [i * j for j in range(1, 5) for i in ['x', 'y', 'z']]\n",
    "print(list3,\"\\n\")\n",
    "\n",
    "list4 = [[b] for a in range(2,5) for b in range(a,a+3)]\n",
    "print(list4,\"\\n\")\n",
    "\n",
    "list5 = [[b for b  in range(a+1,a+5)] for a in range(1,5)]\n",
    "print(list5,\"\\n\")\n",
    "\n",
    "list6 = [(b,a) for a in range(1,4) for b in range(1,4)]\n",
    "print(list6,\"\\n\")"
   ]
  },
  {
   "cell_type": "markdown",
   "metadata": {},
   "source": [
    "**3.\n",
    "Implement a function longestWord() that takes a list of words and returns the longest one."
   ]
  },
  {
   "cell_type": "code",
   "execution_count": 37,
   "metadata": {},
   "outputs": [
    {
     "name": "stdout",
     "output_type": "stream",
     "text": [
      "enter the words seperated by comma: \t gopal,sudhanshu,krish\n",
      "longest_item:  sudhanshu\n"
     ]
    }
   ],
   "source": [
    "#solution 3\n",
    "list1 = input(\"enter the words seperated by comma: \\t \").split(\",\")\n",
    "\n",
    "def longestWord(word_list):  \n",
    "    \n",
    "    longest =  max(word_list, key=len) # finding maximum on the basis of length of item\n",
    "    return longest\n",
    "\n",
    "longest_item = find_longest_word(list1) # passing input list and calling function\n",
    "print(\"longest_item: \",longest_item)"
   ]
  },
  {
   "cell_type": "markdown",
   "metadata": {},
   "source": [
    "# Task 2\n",
    "**1.1\n",
    "Write a Python Program(with class concepts) to find the area of the triangle using the below\n",
    "formula.\n",
    "area = (s*(s-a)*(s-b)*(s-c)) ** 0.5\n",
    "Function to take the length of the sides of triangle from user should be defined in the parent\n",
    "class and function to calculate the area should be defined in subclass.\n"
   ]
  },
  {
   "cell_type": "code",
   "execution_count": 26,
   "metadata": {},
   "outputs": [
    {
     "name": "stdout",
     "output_type": "stream",
     "text": [
      "Enter the sides of triangle\n",
      "\n",
      "Enter the first side\t4\n",
      "Enter the second side\t5\n",
      "Enter the third side\t6\n",
      "Are of triangle  = 9.921567416492215\n"
     ]
    }
   ],
   "source": [
    "#Solution 1.1:\n",
    "\n",
    "class Figure(): #this is our parent class\n",
    "    \n",
    "    def __init__(self, a, b, c): #initialization using constructor\n",
    "        self.a = a\n",
    "        self.b = b\n",
    "        self.c = c\n",
    "\n",
    "        \n",
    "    class Triangle(Figure): # this is our sub-class\n",
    "        def area(self):\n",
    "            s = (self.a+self.b+self.c)/2\n",
    "            return float((s*(s-self.a)*(s-self.b)*(s-self.c))**0.5)\n",
    "\n",
    "    \n",
    "print(\"Enter the sides of triangle\\n\")\n",
    "a = float(input(\"Enter the first side\\t\"))\n",
    "b = float(input(\"Enter the second side\\t\"))\n",
    "c = float(input(\"Enter the third side\\t\"))\n",
    "\n",
    "\n",
    "tri = Triangle(a, b, c) # creating an object of triangle class\n",
    "print(f\"Are of triangle  = {tri.area()}\")"
   ]
  },
  {
   "cell_type": "markdown",
   "metadata": {},
   "source": [
    " **1.2\n",
    "Write a function filter_long_words() that takes a list of words and an integer n and returns the list\n",
    "of words that are longer than n."
   ]
  },
  {
   "cell_type": "code",
   "execution_count": 39,
   "metadata": {},
   "outputs": [
    {
     "name": "stdout",
     "output_type": "stream",
     "text": [
      "enter the words: \tkrish,sudhanshu,darius\n",
      "enter the integer value: \t5\n",
      "long words are:  ['sudhanshu', 'darius']\n"
     ]
    }
   ],
   "source": [
    "\n",
    "#Solution 1.2\n",
    "word_list = input(\"enter the words: \\t\").split(\",\")\n",
    "number = int(input(\"enter the integer value: \\t\"))\n",
    "\n",
    "\n",
    "def filter_long_words(lst,n):\n",
    "    a = []\n",
    "    for i in lst:\n",
    "        if len(i) > n:  # if length of word is greater thn integer this will append that word to a[]\n",
    "            a.append(i)\n",
    "    return a\n",
    "print(\"long words are: \",filter_long_words(word_list,number))"
   ]
  },
  {
   "cell_type": "markdown",
   "metadata": {},
   "source": [
    "\n",
    "\n",
    "**2.1\n",
    "Write a Python program using function concept that maps list of words into a list of integers\n",
    "representing the lengths of the corresponding words.\n",
    "Hint: If a list [ ab,cde,erty] is passed on to the python function output should come as [2,3,4]\n",
    "Here 2,3 and 4 are the lengths of the words in the list."
   ]
  },
  {
   "cell_type": "code",
   "execution_count": 42,
   "metadata": {},
   "outputs": [
    {
     "name": "stdout",
     "output_type": "stream",
     "text": [
      "enter the list items: \tab,cde,erty\n",
      "mapping_integers_list:\t [2, 3, 4]\n"
     ]
    }
   ],
   "source": [
    "#Solution 2.1\n",
    "\n",
    "list1 = input(\"enter the list items: \\t\").split(\",\")\n",
    "def mapper(lst):\n",
    "    b = []\n",
    "    for i in lst:\n",
    "        a = len(i)\n",
    "        b.append(a)\n",
    "    return b\n",
    "mapping_integers = mapper(list1)  \n",
    "print(\"mapping_integers_list:\\t\",mapping_integers)"
   ]
  },
  {
   "cell_type": "markdown",
   "metadata": {},
   "source": [
    "**2.2\n",
    "Write a Python function which takes a character (i.e. a string of length 1) and returns True if it is\n",
    "a vowel, False otherwise."
   ]
  },
  {
   "cell_type": "code",
   "execution_count": 46,
   "metadata": {},
   "outputs": [
    {
     "name": "stdout",
     "output_type": "stream",
     "text": [
      "please enter the character: \ta\n",
      "character is vovel\n"
     ]
    },
    {
     "data": {
      "text/plain": [
       "True"
      ]
     },
     "execution_count": 46,
     "metadata": {},
     "output_type": "execute_result"
    }
   ],
   "source": [
    "#Solution 2.2\n",
    "l=input(\"please enter the character: \\t\")\n",
    "def checkVowels(l):\n",
    "    l1=['a','e','i','o','u']  #list of available vowels\n",
    "    if l in l1:    #finding input character in vowels list\n",
    "        print(\"character is vovel\")\n",
    "        return True\n",
    "        \n",
    "    else:\n",
    "        print(\"character is not vovel\")\n",
    "        return False\n",
    "        \n",
    "\n",
    "checkVowels(l)\n"
   ]
  },
  {
   "cell_type": "markdown",
   "metadata": {},
   "source": [
    "# Thanku Team\n"
   ]
  }
 ],
 "metadata": {
  "kernelspec": {
   "display_name": "Python 3",
   "language": "python",
   "name": "python3"
  },
  "language_info": {
   "codemirror_mode": {
    "name": "ipython",
    "version": 3
   },
   "file_extension": ".py",
   "mimetype": "text/x-python",
   "name": "python",
   "nbconvert_exporter": "python",
   "pygments_lexer": "ipython3",
   "version": "3.6.4"
  }
 },
 "nbformat": 4,
 "nbformat_minor": 2
}
