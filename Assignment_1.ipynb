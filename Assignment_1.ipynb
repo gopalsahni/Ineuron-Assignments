{
 "cells": [
  {
   "cell_type": "markdown",
   "metadata": {},
   "source": [
    "# Task1"
   ]
  },
  {
   "cell_type": "markdown",
   "metadata": {},
   "source": [
    "**1.\n",
    "Install Jupyter notebook and run the first program and share the screenshot of the output.\n"
   ]
  },
  {
   "cell_type": "code",
   "execution_count": 10,
   "metadata": {},
   "outputs": [
    {
     "name": "stdout",
     "output_type": "stream",
     "text": [
      "Hello Ineuron, This is my first program, Thanks for sharing knowledge\n"
     ]
    }
   ],
   "source": [
    "#Solution 1\n",
    "\n",
    "print(\"Hello Ineuron, This is my first program, Thanks for sharing knowledge\")"
   ]
  },
  {
   "cell_type": "markdown",
   "metadata": {
    "colab_type": "text",
    "id": "VJhBOQy5bnGx"
   },
   "source": [
    "**2.\n",
    "Write a program which will find all such numbers which are divisible by 7 but are not a multiple\n",
    "of 5, between 2000 and 3200 (both included). The numbers obtained should be printed in a\n",
    "comma-separated sequence on a single line."
   ]
  },
  {
   "cell_type": "code",
   "execution_count": 2,
   "metadata": {
    "colab_type": "text",
    "id": "h4MJ5WdubnGy"
   },
   "outputs": [
    {
     "name": "stdout",
     "output_type": "stream",
     "text": [
      "2002,2009,2016,2023,2037,2044,2051,2058,2072,2079,2086,2093,2107,2114,2121,2128,2142,2149,2156,2163,2177,2184,2191,2198,2212,2219,2226,2233,2247,2254,2261,2268,2282,2289,2296,2303,2317,2324,2331,2338,2352,2359,2366,2373,2387,2394,2401,2408,2422,2429,2436,2443,2457,2464,2471,2478,2492,2499,2506,2513,2527,2534,2541,2548,2562,2569,2576,2583,2597,2604,2611,2618,2632,2639,2646,2653,2667,2674,2681,2688,2702,2709,2716,2723,2737,2744,2751,2758,2772,2779,2786,2793,2807,2814,2821,2828,2842,2849,2856,2863,2877,2884,2891,2898,2912,2919,2926,2933,2947,2954,2961,2968,2982,2989,2996,3003,3017,3024,3031,3038,3052,3059,3066,3073,3087,3094,3101,3108,3122,3129,3136,3143,3157,3164,3171,3178,3192,3199,"
     ]
    }
   ],
   "source": [
    "#Q.2 Solution\n",
    "\n",
    "for i in range(2000,3201):\n",
    "    if i%7==0 and i%5!=0:\n",
    "       print(i, end = \",\")\n"
   ]
  },
  {
   "cell_type": "markdown",
   "metadata": {},
   "source": [
    "**3.\n",
    "Write a Python program to accept the user's first and last name and then getting them printed in\n",
    "the the reverse order with a space between first name and last name."
   ]
  },
  {
   "cell_type": "code",
   "execution_count": 4,
   "metadata": {
    "colab": {
     "base_uri": "https://localhost:8080/",
     "height": 68
    },
    "colab_type": "code",
    "id": "5qBZa4l5bnG1",
    "outputId": "5420a715-6678-40e1-9cc9-6949e372160f",
    "scrolled": true
   },
   "outputs": [
    {
     "name": "stdout",
     "output_type": "stream",
     "text": [
      "enter first name\n",
      "gopal\n",
      "enter last name\n",
      "sahni\n",
      "reverse of your name is:   lapog inhas\n"
     ]
    }
   ],
   "source": [
    "#Q.3 Solution\n",
    "\n",
    "first_name = input(\"enter first name\\n\")\n",
    "last_name = input(\"enter last name\\n\")\n",
    "name = first_name[::-1] + \" \" + last_name[::-1]\n",
    "print(\"reverse of your name is:  \",name)"
   ]
  },
  {
   "cell_type": "markdown",
   "metadata": {},
   "source": [
    "**4.\n",
    "Write a Python program to find the volume of a sphere with diameter 12 cm.\n",
    "Formula: V=4/3 * π * r3"
   ]
  },
  {
   "cell_type": "code",
   "execution_count": 6,
   "metadata": {
    "colab": {
     "base_uri": "https://localhost:8080/",
     "height": 34
    },
    "colab_type": "code",
    "id": "SC5ca_7__J-6",
    "outputId": "05416b80-0328-48ba-be79-adefabdf1b63"
   },
   "outputs": [
    {
     "name": "stdout",
     "output_type": "stream",
     "text": [
      "volume of sphere:  905.142857142857\n"
     ]
    }
   ],
   "source": [
    "#Q.4 Solution\n",
    "diameter = 12\n",
    "r = diameter/2\n",
    "vol_sphere=((4/3)*(22/7)*r**3)\n",
    "print(\"volume of sphere: \",vol_sphere)\n"
   ]
  },
  {
   "cell_type": "markdown",
   "metadata": {},
   "source": [
    "# Task 2."
   ]
  },
  {
   "cell_type": "markdown",
   "metadata": {},
   "source": [
    "**1.\n",
    "Write a program which accepts a sequence of comma-separated numbers from console and\n",
    "generate a list.**\n"
   ]
  },
  {
   "cell_type": "code",
   "execution_count": 9,
   "metadata": {
    "colab": {
     "base_uri": "https://localhost:8080/",
     "height": 51
    },
    "colab_type": "code",
    "id": "baxAHmTkoFdo",
    "outputId": "5f458716-3624-4c20-bf37-c22a7a3ceda9"
   },
   "outputs": [
    {
     "name": "stdout",
     "output_type": "stream",
     "text": [
      "enter comma separeted numbers 1,2,3\n",
      "['1', '2', '3']\n"
     ]
    }
   ],
   "source": [
    "#Solution. 1 Way 1\n",
    "a = input(\"enter comma separeted numbers \").split(\",\")\n",
    "#b = a.split(\",\")\n",
    "print(a)"
   ]
  },
  {
   "cell_type": "code",
   "execution_count": 8,
   "metadata": {
    "colab": {
     "base_uri": "https://localhost:8080/",
     "height": 51
    },
    "colab_type": "code",
    "id": "VNXdYB7GoxLg",
    "outputId": "af9acc04-a9ef-49ca-e1f8-e1c369c6acd3",
    "scrolled": true
   },
   "outputs": [
    {
     "name": "stdout",
     "output_type": "stream",
     "text": [
      "enter no 1,2,3\n",
      "['1', '2', '3']\n"
     ]
    }
   ],
   "source": [
    "#Solution.1 Way 2\n",
    "n=input(\"enter no \").split(\",\")\n",
    "a=[]\n",
    "for i in n:\n",
    "    a.append(i)\n",
    "print(a)\n"
   ]
  },
  {
   "cell_type": "markdown",
   "metadata": {},
   "source": [
    "**2.\n",
    "Create the below pattern using nested for loop in Python.\n",
    "*\n",
    "* *\n",
    "* * *\n",
    "* * * *\n",
    "* * * * *\n",
    "* * * *\n",
    "* * *\n",
    "* *\n",
    "*\n"
   ]
  },
  {
   "cell_type": "code",
   "execution_count": 16,
   "metadata": {
    "colab": {
     "base_uri": "https://localhost:8080/",
     "height": 170
    },
    "colab_type": "code",
    "id": "wThPQmpYyqfj",
    "outputId": "62e4f82a-51b1-426a-d520-1b08ce0261f5",
    "scrolled": false
   },
   "outputs": [
    {
     "name": "stdout",
     "output_type": "stream",
     "text": [
      "*\n",
      "**\n",
      "***\n",
      "****\n",
      "*****\n",
      "****\n",
      "***\n",
      "**\n",
      "*\n"
     ]
    }
   ],
   "source": [
    "#Solution. 2\n",
    "for i in range(1,6):\n",
    "  print(i * \"*\")\n",
    "for j in range(4,0,-1):\n",
    "  print(j * \"*\")\n",
    "  "
   ]
  },
  {
   "cell_type": "markdown",
   "metadata": {},
   "source": [
    "**3.\n",
    "Write a Python program to reverse a word after accepting the input from the user.\n",
    "Sample Output:\n",
    "Input word: AcadGild\n",
    "Output: dilGdacA"
   ]
  },
  {
   "cell_type": "code",
   "execution_count": 26,
   "metadata": {
    "colab": {
     "base_uri": "https://localhost:8080/",
     "height": 51
    },
    "colab_type": "code",
    "id": "uHxGtFUHD_Zy",
    "outputId": "2e6d619b-aa4c-45e5-ece9-cf1ed02ba36c"
   },
   "outputs": [
    {
     "name": "stdout",
     "output_type": "stream",
     "text": [
      "enter text to get its reverseAcadGild\n",
      "dliGdacA\n"
     ]
    }
   ],
   "source": [
    "#Solution. 3\n",
    "rev_order = input(\"enter text to get its reverse\")\n",
    "print(rev_order[::-1])"
   ]
  },
  {
   "cell_type": "markdown",
   "metadata": {},
   "source": [
    "**4.Write a Python Program to print the given string in the format specified in the sample output.\n",
    "WE, THE PEOPLE OF INDIA, having solemnly resolved to constitute India into a\n",
    "SOVEREIGN, SOCIALIST, SECULAR, DEMOCRATIC REPUBLIC and to secure to all\n",
    "its citizens\n",
    "Sample Output:\n",
    "WE, THE PEOPLE OF INDIA,\n",
    "having solemnly resolved to constitute India into a SOVEREIGN, !\n",
    "SOCIALIST, SECULAR, DEMOCRATIC REPUBLIC\n",
    "and to secure to all its citizens"
   ]
  },
  {
   "cell_type": "code",
   "execution_count": 43,
   "metadata": {
    "colab": {
     "base_uri": "https://localhost:8080/",
     "height": 85
    },
    "colab_type": "code",
    "id": "ObuMhxxuE8CH",
    "outputId": "00d793c7-597f-4d65-895a-6ada3fb5ceba",
    "scrolled": false
   },
   "outputs": [
    {
     "name": "stdout",
     "output_type": "stream",
     "text": [
      "WE, THE PEOPLE OF INDIA,\n",
      "      having solemnly resolved to constitute India into a \n",
      "\t\t SOVEREIGN, SOCIALIST, SECULAR, DEMOCRATIC REPUBLIC \n",
      "\t\t\t\t and to secure to all its citizens\n"
     ]
    }
   ],
   "source": [
    "#Solution. 4\n",
    "print(\"WE, THE PEOPLE OF INDIA,\\n \"+ \"     \" + \"having solemnly resolved to constitute India into a \\n\\t\\t SOVEREIGN, SOCIALIST, SECULAR, DEMOCRATIC REPUBLIC \\n\\t\\t\\t\\t and to secure to all its citizens\")\n"
   ]
  },
  {
   "cell_type": "markdown",
   "metadata": {},
   "source": [
    "# Thanks"
   ]
  }
 ],
 "metadata": {
  "colab": {
   "name": "Session 1.1 - Python-Installation and Basics.ipynb",
   "provenance": []
  },
  "kernelspec": {
   "display_name": "Python 3",
   "language": "python",
   "name": "python3"
  },
  "language_info": {
   "codemirror_mode": {
    "name": "ipython",
    "version": 3
   },
   "file_extension": ".py",
   "mimetype": "text/x-python",
   "name": "python",
   "nbconvert_exporter": "python",
   "pygments_lexer": "ipython3",
   "version": "3.6.4"
  }
 },
 "nbformat": 4,
 "nbformat_minor": 1
}
